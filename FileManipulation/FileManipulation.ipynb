{
 "cells": [
  {
   "cell_type": "markdown",
   "metadata": {},
   "source": [
    "### file manipulation .txt"
   ]
  },
  {
   "cell_type": "code",
   "execution_count": 2,
   "metadata": {},
   "outputs": [
    {
     "name": "stdout",
     "output_type": "stream",
     "text": [
      "fname = ./resources/file.txt\n",
      "mode = w\n"
     ]
    }
   ],
   "source": [
    "f = open('./resources/file.txt','w')\n",
    "print(f'fname = {f.name}')\n",
    "print(f'mode = {f.mode}')"
   ]
  },
  {
   "cell_type": "markdown",
   "metadata": {},
   "source": [
    "#### writing in files"
   ]
  },
  {
   "cell_type": "code",
   "execution_count": 3,
   "metadata": {},
   "outputs": [],
   "source": [
    "f.write(\"new data inserted!\")\n",
    "f.close()"
   ]
  },
  {
   "cell_type": "markdown",
   "metadata": {},
   "source": [
    "#### reading data from file"
   ]
  },
  {
   "cell_type": "code",
   "execution_count": 32,
   "metadata": {},
   "outputs": [
    {
     "name": "stdout",
     "output_type": "stream",
     "text": [
      "cursor is at pos 0\n"
     ]
    }
   ],
   "source": [
    "f=open(\"./resources/file.txt\",'r')\n",
    "print(f\"cursor is at pos {f.tell()}\")"
   ]
  },
  {
   "cell_type": "code",
   "execution_count": 33,
   "metadata": {},
   "outputs": [
    {
     "name": "stdout",
     "output_type": "stream",
     "text": [
      "new data inserted!\n"
     ]
    }
   ],
   "source": [
    "print(f.read())"
   ]
  },
  {
   "cell_type": "code",
   "execution_count": 34,
   "metadata": {},
   "outputs": [
    {
     "name": "stdout",
     "output_type": "stream",
     "text": [
      "new d\n"
     ]
    }
   ],
   "source": [
    "f.seek(0) # used to position the cursor\n",
    "print(f.read(5)) # to read specific amt of data..\n"
   ]
  },
  {
   "cell_type": "markdown",
   "metadata": {},
   "source": [
    "#### appending the data into file"
   ]
  },
  {
   "cell_type": "code",
   "execution_count": 37,
   "metadata": {},
   "outputs": [],
   "source": [
    "f = open(\"./resources/file.txt\",'a+')\n",
    "f.write(\"updated data here!\")\n",
    "f.close()"
   ]
  },
  {
   "cell_type": "markdown",
   "metadata": {},
   "source": [
    "#### sum of elements"
   ]
  },
  {
   "cell_type": "code",
   "execution_count": 53,
   "metadata": {},
   "outputs": [],
   "source": [
    "f = open(\"./resources/file.txt\",'w')\n",
    "f.write('10 20 30 40 50')\n",
    "f.close()"
   ]
  },
  {
   "cell_type": "code",
   "execution_count": 58,
   "metadata": {},
   "outputs": [
    {
     "name": "stdout",
     "output_type": "stream",
     "text": [
      "[10, 20, 30, 40, 50]\n"
     ]
    },
    {
     "data": {
      "text/plain": [
       "150"
      ]
     },
     "execution_count": 58,
     "metadata": {},
     "output_type": "execute_result"
    }
   ],
   "source": [
    "f = open(\"./resources/file.txt\",'r')\n",
    "num = [int(i) for i in f.read().split()]\n",
    "print(num)\n",
    "sum = 0\n",
    "for i in num:\n",
    "    sum = sum + int(i)\n",
    "sum\n"
   ]
  },
  {
   "cell_type": "markdown",
   "metadata": {},
   "source": [
    "#### 1. read file and count the no. of words in file \n",
    "#### 2. read file calculate the len of each word and create another file and store len in it"
   ]
  },
  {
   "cell_type": "code",
   "execution_count": 62,
   "metadata": {},
   "outputs": [
    {
     "name": "stdout",
     "output_type": "stream",
     "text": [
      "4\n"
     ]
    }
   ],
   "source": [
    "f = open(\"./resources/f2.txt\",'r')\n",
    "words = [x for x in f.read().split()]\n",
    "print(len(words))\n",
    "f.close()\n",
    "f = open(\"./resources/f2.txt\",'a+')\n",
    "f.write(f\" | total words={len(words)}\")\n",
    "f.close()\n"
   ]
  },
  {
   "cell_type": "markdown",
   "metadata": {},
   "source": [
    "### File manipulation csv"
   ]
  },
  {
   "cell_type": "markdown",
   "metadata": {},
   "source": [
    "#### read as basic csv file with default delimiter of ','"
   ]
  },
  {
   "cell_type": "code",
   "execution_count": 76,
   "metadata": {},
   "outputs": [
    {
     "name": "stdout",
     "output_type": "stream",
     "text": [
      "Name,Age,Profession\n",
      "max,23,Doctor\n",
      "john,24,Engineer\n",
      "alex,25,Artist\n",
      "chole,28,designer\n"
     ]
    }
   ],
   "source": [
    "import csv\n",
    "with open('./resources/f1.csv','r') as f:\n",
    "    reader = csv.reader(f)\n",
    "    for i in reader:\n",
    "        print(','.join(i))   \n",
    "\n"
   ]
  },
  {
   "cell_type": "markdown",
   "metadata": {},
   "source": [
    "#### Read a csv file with specific delimiter and process the column heading and values in each row"
   ]
  },
  {
   "cell_type": "code",
   "execution_count": 69,
   "metadata": {},
   "outputs": [
    {
     "name": "stdout",
     "output_type": "stream",
     "text": [
      "column Names are = Name, Age, Profession\n",
      "max aged  23 years\n",
      "john aged  24 years\n",
      "alex aged  25 years\n",
      "chole aged  28 years\n"
     ]
    }
   ],
   "source": [
    "with open('./resources/f1.csv','r') as f:\n",
    "    reader = csv.reader(f, delimiter=',')\n",
    "    line_count = 0\n",
    "    for i in reader:\n",
    "        if line_count == 0:\n",
    "            print(f\"column Names are = {','.join(i)}\")\n",
    "            line_count += 1\n",
    "        else:\n",
    "            print(f'{i[0]} aged {i[1]} years')"
   ]
  },
  {
   "cell_type": "markdown",
   "metadata": {},
   "source": [
    "#### open txt file as csv values with a specific delimiter"
   ]
  },
  {
   "cell_type": "code",
   "execution_count": null,
   "metadata": {},
   "outputs": [],
   "source": [
    "with open(\"emp_1.txt\",\"r\") as file:\n",
    "    reader = csv.reader(file, delimiter=\" \")\n",
    "    for r in reader:\n",
    "        print(r)"
   ]
  },
  {
   "cell_type": "markdown",
   "metadata": {},
   "source": [
    "#### read csv file as dictionary {}"
   ]
  },
  {
   "cell_type": "code",
   "execution_count": 73,
   "metadata": {},
   "outputs": [
    {
     "name": "stdout",
     "output_type": "stream",
     "text": [
      "{'Name': 'max', ' Age': ' 23', ' Profession': ' Doctor'}\n",
      "{'Name': 'john', ' Age': ' 24', ' Profession': ' Engineer'}\n",
      "{'Name': 'alex', ' Age': ' 25', ' Profession': ' Artist'}\n",
      "{'Name': 'chole', ' Age': ' 28', ' Profession': ' designer'}\n"
     ]
    }
   ],
   "source": [
    "with open(\"./resources/f1.csv\",\"r\") as file:\n",
    "    reader = csv.DictReader(file)\n",
    "    for i in reader:\n",
    "        print(i)"
   ]
  },
  {
   "cell_type": "markdown",
   "metadata": {},
   "source": [
    "#### read txt file as dict and remove extra spaces around the column names"
   ]
  },
  {
   "cell_type": "code",
   "execution_count": 80,
   "metadata": {},
   "outputs": [
    {
     "name": "stdout",
     "output_type": "stream",
     "text": [
      "Column Name are: Name,Age,Profession\n",
      "john aged 24 profession Engineer\n",
      "alex aged 25 profession Artist\n",
      "chole aged 28 profession designer\n"
     ]
    }
   ],
   "source": [
    "import csv\n",
    "with open('./resources/f1.csv','r') as f:\n",
    "    reader = csv.DictReader(f,delimiter=\",\",skipinitialspace=True)\n",
    "    lc = 0\n",
    "    for r in reader:\n",
    "        if lc == 0:\n",
    "            print(f\"Column Name are: {','.join(r)}\")\n",
    "            lc += 1\n",
    "        else:\n",
    "            print(f\"{r['Name']} aged {r['Age']} profession {r['Profession']}\")\n",
    "            lc += 1\n",
    "\n"
   ]
  },
  {
   "cell_type": "markdown",
   "metadata": {},
   "source": [
    "#### Write CSV file"
   ]
  },
  {
   "cell_type": "code",
   "execution_count": 84,
   "metadata": {},
   "outputs": [],
   "source": [
    "with open(\"./resources/f2.csv\",'w') as f:\n",
    "    writer = csv.writer(f,delimiter=',', quotechar='\"',quoting=csv.QUOTE_MINIMAL)\n",
    "    writer.writerow(['Name','Age','Profession'])\n",
    "    writer.writerow(['John','23', 'Doctor'])\n",
    "    writer.writerow(['Jack','30', 'Engineer'])\n",
    "    writer.writerow(['Alex','25', 'Designer'])\n",
    "    "
   ]
  },
  {
   "cell_type": "markdown",
   "metadata": {},
   "source": [
    "#### write a csv file using dictwriter obj and writerow method\n",
    "##### remember dictwriter requires the list of fieldnames. It is mandatory"
   ]
  },
  {
   "cell_type": "code",
   "execution_count": 89,
   "metadata": {},
   "outputs": [],
   "source": [
    "with open(\"./resources/f2.csv\",'w') as f:\n",
    "    fieldname = ['Name','Age']\n",
    "    writer = csv.DictWriter(f,fieldnames=fieldname)\n",
    "    writer.writeheader()\n",
    "    writer.writerow({\"Name\":\"max\",\"Age\":23})"
   ]
  },
  {
   "cell_type": "markdown",
   "metadata": {},
   "source": [
    "### XML manipulation"
   ]
  },
  {
   "cell_type": "markdown",
   "metadata": {},
   "source": [
    "#### Element Tree"
   ]
  },
  {
   "cell_type": "code",
   "execution_count": 24,
   "metadata": {},
   "outputs": [],
   "source": [
    "import xml.etree.ElementTree as xml"
   ]
  },
  {
   "cell_type": "code",
   "execution_count": 25,
   "metadata": {},
   "outputs": [],
   "source": [
    "students = [\n",
    "    {\n",
    "        'name':'AAA',\n",
    "        'age':20,\n",
    "        'marks':45\n",
    "    },\n",
    "    {\n",
    "        'name':'BBB',\n",
    "        'age':22,\n",
    "        'marks':55\n",
    "    },\n",
    "    {\n",
    "        'name':'CCC',\n",
    "        'age':21,\n",
    "        'marks':35\n",
    "    },\n",
    "    {\n",
    "        'name':'XXX',\n",
    "        'age':20,\n",
    "        'marks':65\n",
    "    },\n",
    "    \n",
    "]"
   ]
  },
  {
   "cell_type": "code",
   "execution_count": 26,
   "metadata": {},
   "outputs": [],
   "source": [
    "root = xml.Element('students') # created a element"
   ]
  },
  {
   "cell_type": "code",
   "execution_count": 27,
   "metadata": {},
   "outputs": [],
   "source": [
    "for s in students:\n",
    "    child = xml.Element('s') # create child element for each student\n",
    "    root.append(child) # append child element created to the root\n",
    "    n = xml.SubElement(child,'name')\n",
    "    n.text = s.get('name')\n",
    "    age = xml.SubElement(child,'age')\n",
    "    a=s['age']\n",
    "    age.text = str(a) # age to string\n",
    "    mark=xml.SubElement(child,'mark')\n",
    "    m = s['marks']\n",
    "    mark.text = str(m)\n",
    "    "
   ]
  },
  {
   "cell_type": "code",
   "execution_count": 28,
   "metadata": {},
   "outputs": [],
   "source": [
    "tree = xml.ElementTree(root)"
   ]
  },
  {
   "cell_type": "code",
   "execution_count": 29,
   "metadata": {},
   "outputs": [],
   "source": [
    "with open('./resources/f1.xml','wb') as f:\n",
    "    tree.write(f)"
   ]
  },
  {
   "cell_type": "markdown",
   "metadata": {},
   "source": [
    "#### Read an XML file"
   ]
  },
  {
   "cell_type": "code",
   "execution_count": 42,
   "metadata": {},
   "outputs": [],
   "source": [
    "tree = xml.ElementTree(file='./resources/f1.xml')"
   ]
  },
  {
   "cell_type": "code",
   "execution_count": 43,
   "metadata": {},
   "outputs": [
    {
     "data": {
      "text/plain": [
       "xml.etree.ElementTree.ElementTree"
      ]
     },
     "execution_count": 43,
     "metadata": {},
     "output_type": "execute_result"
    }
   ],
   "source": [
    "type(tree)"
   ]
  },
  {
   "cell_type": "code",
   "execution_count": 47,
   "metadata": {},
   "outputs": [
    {
     "name": "stdout",
     "output_type": "stream",
     "text": [
      "<Element 'students' at 0x0000013169D39EE0>\n"
     ]
    }
   ],
   "source": [
    "root = tree.getroot()"
   ]
  },
  {
   "cell_type": "code",
   "execution_count": 45,
   "metadata": {},
   "outputs": [],
   "source": [
    "students = []"
   ]
  },
  {
   "cell_type": "code",
   "execution_count": 50,
   "metadata": {},
   "outputs": [
    {
     "name": "stdout",
     "output_type": "stream",
     "text": [
      "name\n",
      "age\n",
      "mark\n",
      "name\n",
      "age\n",
      "mark\n",
      "name\n",
      "age\n",
      "mark\n",
      "name\n",
      "age\n",
      "mark\n",
      "[{'name': 'AAA', 'age': '20', 'mark': '45'}, {'name': 'BBB', 'age': '22', 'mark': '55'}, {'name': 'CCC', 'age': '21', 'mark': '35'}, {'name': 'XXX', 'age': '20', 'mark': '65'}, {'name': 'AAA', 'age': '20', 'mark': '45'}, {'name': 'BBB', 'age': '22', 'mark': '55'}, {'name': 'CCC', 'age': '21', 'mark': '35'}, {'name': 'XXX', 'age': '20', 'mark': '65'}, {'name': 'AAA', 'age': '20', 'mark': '45'}, {'name': 'BBB', 'age': '22', 'mark': '55'}, {'name': 'CCC', 'age': '21', 'mark': '35'}, {'name': 'XXX', 'age': '20', 'mark': '65'}, {'name': 'AAA', 'age': '20', 'mark': '45'}, {'name': 'BBB', 'age': '22', 'mark': '55'}, {'name': 'CCC', 'age': '21', 'mark': '35'}, {'name': 'XXX', 'age': '20', 'mark': '65'}]\n"
     ]
    }
   ],
   "source": [
    "for s in root.findall('s'):\n",
    "    s_data = {}\n",
    "    for v in s:\n",
    "        s_data[v.tag] = v.text\n",
    "    students.append(s_data)\n",
    "print(students)"
   ]
  },
  {
   "cell_type": "markdown",
   "metadata": {},
   "source": [
    "### problem on XML"
   ]
  },
  {
   "cell_type": "markdown",
   "metadata": {},
   "source": [
    "#### create xml file that has emp name,dept and sal. read the file amd increase the sal by 5% and store it back"
   ]
  },
  {
   "cell_type": "code",
   "execution_count": 111,
   "metadata": {},
   "outputs": [],
   "source": [
    "emp = [\n",
    "    {\n",
    "        'name': 'max',\n",
    "        'dept': 'xyz',\n",
    "        'salary' : 25000\n",
    "    },\n",
    "     {\n",
    "        'name': 'john',\n",
    "        'dept': 'abc',\n",
    "        'salary' : 55000\n",
    "    }\n",
    "]"
   ]
  },
  {
   "cell_type": "code",
   "execution_count": 101,
   "metadata": {},
   "outputs": [],
   "source": [
    "root = xml.Element('empolyees')"
   ]
  },
  {
   "cell_type": "code",
   "execution_count": 102,
   "metadata": {},
   "outputs": [],
   "source": [
    "for e in emp:\n",
    "    child = xml.SubElement(root,'emp')\n",
    "    name = xml.SubElement(child,'name')\n",
    "    name.text = e.get('name')\n",
    "    dept = xml.SubElement(child,'name')\n",
    "    dept.text = e.get('dept')\n",
    "    sal = xml.SubElement(child,'salary')\n",
    "    s = e.get('salary')\n",
    "    sal.text = str(s)\n",
    "    "
   ]
  },
  {
   "cell_type": "code",
   "execution_count": 103,
   "metadata": {},
   "outputs": [],
   "source": [
    "tree = xml.ElementTree(root)"
   ]
  },
  {
   "cell_type": "code",
   "execution_count": 104,
   "metadata": {},
   "outputs": [],
   "source": [
    "with open(\"./resources/emp.xml\",'wb') as f:\n",
    "    tree.write(f)"
   ]
  },
  {
   "cell_type": "code",
   "execution_count": 105,
   "metadata": {},
   "outputs": [],
   "source": [
    "tree = xml.ElementTree(file=\"./resources/emp.xml\")"
   ]
  },
  {
   "cell_type": "code",
   "execution_count": 106,
   "metadata": {},
   "outputs": [],
   "source": [
    "emp=[]\n",
    "root = tree.getroot()"
   ]
  },
  {
   "cell_type": "code",
   "execution_count": 107,
   "metadata": {},
   "outputs": [
    {
     "name": "stdout",
     "output_type": "stream",
     "text": [
      "<Element 'salary' at 0x0000013169DD7100>\n",
      "<Element 'salary' at 0x0000013169DD7AB0>\n"
     ]
    }
   ],
   "source": [
    "for e in root.findall('emp'):\n",
    "    salary_element = e.find('salary')\n",
    "    print(salary_element)\n",
    "    salary = float(salary_element.text)\n",
    "    increased_salary = salary * 1.05  # Increasing salary by 5%\n",
    "    salary_element.text = str(increased_salary)"
   ]
  },
  {
   "cell_type": "code",
   "execution_count": 108,
   "metadata": {},
   "outputs": [],
   "source": [
    "with open('./resources/emp.xml', 'wb') as f:\n",
    "    tree.write(f)"
   ]
  },
  {
   "cell_type": "markdown",
   "metadata": {},
   "source": [
    "### create XML structure"
   ]
  },
  {
   "cell_type": "code",
   "execution_count": 10,
   "metadata": {},
   "outputs": [],
   "source": [
    "from xml.dom import minidom"
   ]
  },
  {
   "cell_type": "code",
   "execution_count": 11,
   "metadata": {},
   "outputs": [],
   "source": [
    "emp = [\n",
    "    {\n",
    "        'name': 'max',\n",
    "        'dept': 'xyz',\n",
    "        'salary' : 25000\n",
    "    },\n",
    "     {\n",
    "        'name': 'john',\n",
    "        'dept': 'abc',\n",
    "        'salary' : 55000\n",
    "    }\n",
    "]"
   ]
  },
  {
   "cell_type": "code",
   "execution_count": 12,
   "metadata": {},
   "outputs": [],
   "source": [
    "doc = minidom.Document()"
   ]
  },
  {
   "cell_type": "code",
   "execution_count": 13,
   "metadata": {},
   "outputs": [
    {
     "data": {
      "text/plain": [
       "<DOM Element: employee at 0x21ca6948050>"
      ]
     },
     "execution_count": 13,
     "metadata": {},
     "output_type": "execute_result"
    }
   ],
   "source": [
    "root = doc.createElement('employee')\n",
    "doc.appendChild(root)"
   ]
  },
  {
   "cell_type": "code",
   "execution_count": 14,
   "metadata": {},
   "outputs": [
    {
     "name": "stdout",
     "output_type": "stream",
     "text": [
      "<class 'xml.dom.minidom.Element'>\n",
      "<class 'xml.dom.minidom.Element'>\n"
     ]
    }
   ],
   "source": [
    "for e in emp:\n",
    "    e_element = doc.createElement(\"emp\")\n",
    "    print(type(e_element))\n",
    "    # Name element\n",
    "    name_element = doc.createElement('name')\n",
    "    name_text = doc.createTextNode(e['name'])\n",
    "    name_element.appendChild(name_text)\n",
    "    # appent to emp node -> name node\n",
    "    e_element.appendChild(name_element)\n",
    "    # append to root node -> emp node\n",
    "    root.appendChild(name_element)\n"
   ]
  },
  {
   "cell_type": "code",
   "execution_count": 15,
   "metadata": {},
   "outputs": [],
   "source": [
    "f = open('./resources/dom.xml','w')"
   ]
  },
  {
   "cell_type": "code",
   "execution_count": 16,
   "metadata": {},
   "outputs": [
    {
     "name": "stdout",
     "output_type": "stream",
     "text": [
      "<?xml version=\"1.0\" ?>\n",
      "<employee>\n",
      "\t<name>max</name>\n",
      "\t<name>john</name>\n",
      "</employee>\n",
      "\n"
     ]
    }
   ],
   "source": [
    "f.write(doc.toprettyxml(indent=\" \"))\n",
    "print(doc.toprettyxml())"
   ]
  },
  {
   "cell_type": "markdown",
   "metadata": {},
   "source": [
    "#### read or parse xml file"
   ]
  },
  {
   "cell_type": "code",
   "execution_count": 18,
   "metadata": {},
   "outputs": [],
   "source": [
    "tree = minidom.parse('./resources/dom.xml')"
   ]
  },
  {
   "cell_type": "code",
   "execution_count": 20,
   "metadata": {},
   "outputs": [],
   "source": [
    "root = tree.documentElement"
   ]
  },
  {
   "cell_type": "code",
   "execution_count": 26,
   "metadata": {},
   "outputs": [
    {
     "name": "stdout",
     "output_type": "stream",
     "text": [
      "max\n"
     ]
    }
   ],
   "source": [
    "name = root.getElementsByTagName('name')\n",
    "print(name[0].childNodes[0].data)"
   ]
  },
  {
   "cell_type": "markdown",
   "metadata": {},
   "source": [
    "#### modify"
   ]
  },
  {
   "cell_type": "code",
   "execution_count": null,
   "metadata": {},
   "outputs": [],
   "source": [
    "f='dom.xml'\n",
    "dom_tree = minidom.parse(f)"
   ]
  },
  {
   "cell_type": "code",
   "execution_count": null,
   "metadata": {},
   "outputs": [],
   "source": [
    "root = dom_tree.documentElement\n",
    "std = root.getElementsByTagName('Students')"
   ]
  },
  {
   "cell_type": "code",
   "execution_count": null,
   "metadata": {},
   "outputs": [],
   "source": [
    "for s in std:\n",
    "    m=s.getElementsByTagName('marks')[0]\n",
    "    c_m = int(m.chidlNodes[0].data)\n",
    "    c_m = c_m+10\n",
    "\n",
    "    m.childNodes[0].data = str(c_m)\n",
    "    "
   ]
  },
  {
   "cell_type": "code",
   "execution_count": null,
   "metadata": {},
   "outputs": [],
   "source": [
    "f=open('dom.xml','w')\n",
    "f.write(dom_tree.toxml())\n",
    "f=open('dom1.xml','w')\n",
    "f.write(dom_tree.toxml())"
   ]
  }
 ],
 "metadata": {
  "kernelspec": {
   "display_name": "Python 3",
   "language": "python",
   "name": "python3"
  },
  "language_info": {
   "codemirror_mode": {
    "name": "ipython",
    "version": 3
   },
   "file_extension": ".py",
   "mimetype": "text/x-python",
   "name": "python",
   "nbconvert_exporter": "python",
   "pygments_lexer": "ipython3",
   "version": "3.12.0"
  }
 },
 "nbformat": 4,
 "nbformat_minor": 2
}
