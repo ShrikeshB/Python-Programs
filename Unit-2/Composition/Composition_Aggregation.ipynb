{
 "cells": [
  {
   "cell_type": "markdown",
   "metadata": {},
   "source": [
    "### composition "
   ]
  },
  {
   "cell_type": "code",
   "execution_count": 1,
   "metadata": {},
   "outputs": [],
   "source": [
    "class Engine:\n",
    "    def __init__(self,horsepower) -> None:\n",
    "        self.horsepower = horsepower\n",
    "    def start(self):\n",
    "        return \"Engine started\"\n",
    "    \n",
    "\n",
    "class Car:\n",
    "    def __init__(self, make, model, horsepower):\n",
    "        self.make = make\n",
    "        self.model = model\n",
    "        self.engine = Engine(horsepower)\n",
    "    \n",
    "    def start(self):\n",
    "        engine_start = self.engine.start()\n",
    "        return f\"{self.make} {self.model}: {engine_start} with {self.engine.horsepower} horsepower\""
   ]
  },
  {
   "cell_type": "code",
   "execution_count": 2,
   "metadata": {},
   "outputs": [
    {
     "name": "stdout",
     "output_type": "stream",
     "text": [
      "Toyota Corolla: Engine started with 130 horsepower\n"
     ]
    }
   ],
   "source": [
    "my_car = Car(\"Toyota\", \"Corolla\", 130)\n",
    "print(my_car.start())"
   ]
  },
  {
   "cell_type": "markdown",
   "metadata": {},
   "source": [
    "### Aggregation "
   ]
  },
  {
   "cell_type": "code",
   "execution_count": 3,
   "metadata": {},
   "outputs": [],
   "source": [
    "class Employee:\n",
    "    def __init__(self, name, position):\n",
    "        self.name = name\n",
    "        self.position = position\n",
    "\n",
    "    def get_details(self):\n",
    "        return f\"{self.name}, {self.position}\""
   ]
  },
  {
   "cell_type": "code",
   "execution_count": 4,
   "metadata": {},
   "outputs": [],
   "source": [
    "\n",
    "class Department:\n",
    "    def __init__(self, name):\n",
    "        self.name = name\n",
    "        self.employees = []\n",
    "\n",
    "    def add_employee(self, employee):\n",
    "        self.employees.append(employee)\n",
    "\n",
    "    def get_employees(self):\n",
    "        return [employee.get_details() for employee in self.employees]"
   ]
  },
  {
   "cell_type": "code",
   "execution_count": 6,
   "metadata": {},
   "outputs": [
    {
     "name": "stdout",
     "output_type": "stream",
     "text": [
      "Alice, Manager\n",
      "Bob, Developer\n",
      "max, designer\n"
     ]
    }
   ],
   "source": [
    "emp1 = Employee(\"Alice\", \"Manager\")\n",
    "emp2 = Employee(\"Bob\", \"Developer\")\n",
    "emp3 = Employee(\"max\", \"designer\")\n",
    "\n",
    "# Creating Department object\n",
    "dept = Department(\"IT\")\n",
    "dept2 = Department(\"Design\")\n",
    "\n",
    "# Adding employees to the department\n",
    "dept.add_employee(emp1)\n",
    "dept.add_employee(emp2)\n",
    "dept2.add_employee(emp3)\n",
    "\n",
    "# Getting details of employees in the department\n",
    "for detail in dept.get_employees():\n",
    "    print(detail)\n",
    "for detail in dept2.get_employees():\n",
    "    print(detail)"
   ]
  },
  {
   "cell_type": "code",
   "execution_count": null,
   "metadata": {},
   "outputs": [],
   "source": []
  }
 ],
 "metadata": {
  "kernelspec": {
   "display_name": "Python 3",
   "language": "python",
   "name": "python3"
  },
  "language_info": {
   "codemirror_mode": {
    "name": "ipython",
    "version": 3
   },
   "file_extension": ".py",
   "mimetype": "text/x-python",
   "name": "python",
   "nbconvert_exporter": "python",
   "pygments_lexer": "ipython3",
   "version": "3.12.0"
  }
 },
 "nbformat": 4,
 "nbformat_minor": 2
}
