{
 "cells": [
  {
   "cell_type": "markdown",
   "id": "c873438b-bb51-4a2b-a03b-e00ef6601012",
   "metadata": {},
   "source": [
    "### class"
   ]
  },
  {
   "cell_type": "code",
   "execution_count": 1,
   "id": "1662b296",
   "metadata": {},
   "outputs": [
    {
     "name": "stdout",
     "output_type": "stream",
     "text": [
      "Buddy\n",
      "5\n",
      "Buddy age is 3\n"
     ]
    }
   ],
   "source": [
    "class Dog:\n",
    "    def __init__(self, name, age):\n",
    "        self.name = name\n",
    "        self.age = age\n",
    "        \n",
    "    def info(self):\n",
    "        print(f'{self.name} age is {self.age}')\n",
    "\n",
    "dog1 = Dog(\"Buddy\", 3)\n",
    "dog2 = Dog(\"Lucy\", 5)\n",
    "\n",
    "# Accessing attributes and methods\n",
    "print(dog1.name)  # Output: Buddy\n",
    "print(dog2.age)   # Output: 5\n",
    "dog1.info()"
   ]
  },
  {
   "cell_type": "markdown",
   "id": "fff265a2",
   "metadata": {},
   "source": [
    "### Encapsulation"
   ]
  },
  {
   "cell_type": "code",
   "execution_count": 2,
   "id": "1f2b66c3",
   "metadata": {},
   "outputs": [
    {
     "name": "stdout",
     "output_type": "stream",
     "text": [
      "age of max is 25\n",
      "age of max after update is 30\n"
     ]
    }
   ],
   "source": [
    "class Person():\n",
    "    def __init__(self, name, age):\n",
    "        self._name = name  # protected\n",
    "        self.__age = age  # private\n",
    "    \n",
    "    def get_age(self):\n",
    "        return self.__age\n",
    "    \n",
    "    def set_age(self, age):\n",
    "        self.__age = age\n",
    "    \n",
    "\n",
    "# object \n",
    "person = Person('max', 25)\n",
    "print(f'age of {person._name} is {person.get_age()}')    \n",
    "\n",
    "person.set_age(30)\n",
    "print(f'age of {person._name} after update is {person.get_age()}')    \n"
   ]
  },
  {
   "cell_type": "markdown",
   "id": "e53e0fe2",
   "metadata": {},
   "source": [
    "### Inheritance"
   ]
  },
  {
   "cell_type": "code",
   "execution_count": 4,
   "id": "28502b8c",
   "metadata": {},
   "outputs": [
    {
     "name": "stdout",
     "output_type": "stream",
     "text": [
      "alice says meow!\n",
      "max says woof!\n"
     ]
    }
   ],
   "source": [
    "class Animal:\n",
    "    def __init__(self, name):\n",
    "        self.name = name\n",
    "\n",
    "    def speak(self):\n",
    "        raise NotImplementedError(\"Subclass must implement abstract method\")\n",
    "\n",
    "\n",
    "class Cat(Animal):\n",
    "    def __init__(self, name):\n",
    "        super().__init__(name)\n",
    "\n",
    "    def speak(self):\n",
    "        return f\"{self.name} says meow!\"\n",
    "\n",
    "\n",
    "class Dog(Animal):\n",
    "    def __init__(self, name):\n",
    "        super().__init__(name)\n",
    "\n",
    "    def speak(self):\n",
    "        return f\"{self.name} says woof!\"\n",
    "\n",
    "\n",
    "cat = Cat(\"alice\")\n",
    "dog = Dog(\"max\")\n",
    "\n",
    "print(f\"{cat.speak()}\")\n",
    "print(f\"{dog.speak()}\")\n"
   ]
  },
  {
   "cell_type": "markdown",
   "id": "1708f145",
   "metadata": {},
   "source": [
    "### Polymorphism"
   ]
  },
  {
   "cell_type": "code",
   "execution_count": 7,
   "id": "57d183eb",
   "metadata": {},
   "outputs": [
    {
     "name": "stdout",
     "output_type": "stream",
     "text": [
      "bird is flying\n",
      "airplane is flying\n"
     ]
    }
   ],
   "source": [
    "class Bird:\n",
    "    def fly(self):\n",
    "        print(\"bird is flying\")\n",
    "\n",
    "class Airplane:\n",
    "    def fly(self):\n",
    "        print(\"airplane is flying\")\n",
    "\n",
    "# Polymorphism \n",
    "def let_it_fly(obj):\n",
    "    obj.fly()\n",
    "\n",
    "bird = Bird()\n",
    "airplane = Airplane()\n",
    "\n",
    "let_it_fly(bird)      \n",
    "let_it_fly(airplane)"
   ]
  },
  {
   "cell_type": "markdown",
   "id": "0f1cf7d4",
   "metadata": {},
   "source": [
    "### Abstraction"
   ]
  },
  {
   "cell_type": "code",
   "execution_count": 10,
   "id": "a4db613d",
   "metadata": {},
   "outputs": [
    {
     "name": "stdout",
     "output_type": "stream",
     "text": [
      "Rectangle area: 200\n",
      "Rectangle perimeter: 60\n",
      "Circle area: 78.5\n",
      "Circle perimeter: 31.400000000000002\n"
     ]
    }
   ],
   "source": [
    "\n",
    "# Define an abstract class\n",
    "class Shape:\n",
    "    def area(self):\n",
    "        pass\n",
    "    \n",
    "    def perimeter(self):\n",
    "        pass\n",
    "\n",
    "# Concrete subclass implementing the abstract methods\n",
    "class Rectangle(Shape):\n",
    "    def __init__(self, width, height):\n",
    "        self.width = width\n",
    "        self.height = height\n",
    "    \n",
    "    def area(self):\n",
    "        return self.width * self.height\n",
    "    \n",
    "    def perimeter(self):\n",
    "        return 2 * (self.width + self.height)\n",
    "\n",
    "# Another concrete subclass\n",
    "class Circle(Shape):\n",
    "    def __init__(self, radius):\n",
    "        self.radius = radius\n",
    "    \n",
    "    def area(self):\n",
    "        return 3.14 * self.radius * self.radius\n",
    "    \n",
    "    def perimeter(self):\n",
    "        return 2 * 3.14 * self.radius\n",
    "\n",
    "# Trying to instantiate an abstract class will raise an error\n",
    "# shape = Shape()  # This will raise a TypeError\n",
    "\n",
    "# Instantiate the concrete classes\n",
    "rectangle = Rectangle(10, 20)\n",
    "circle = Circle(5)\n",
    "\n",
    "# Access the implemented methods\n",
    "print(f\"Rectangle area: {rectangle.area()}\")           # Output: Rectangle area: 200\n",
    "print(f\"Rectangle perimeter: {rectangle.perimeter()}\") # Output: Rectangle perimeter: 60\n",
    "print(f\"Circle area: {circle.area()}\")                 # Output: Circle area: 78.5\n",
    "print(f\"Circle perimeter: {circle.perimeter()}\")       # Output: Circle perimeter: 31.400000000000002\n"
   ]
  },
  {
   "cell_type": "markdown",
   "id": "664fa9a2",
   "metadata": {},
   "source": [
    "### Constructors"
   ]
  },
  {
   "cell_type": "markdown",
   "id": "e395d2b8",
   "metadata": {},
   "source": [
    "#### default constructor"
   ]
  },
  {
   "cell_type": "code",
   "execution_count": 13,
   "id": "ae2a001f",
   "metadata": {},
   "outputs": [],
   "source": [
    "class myClass:\n",
    "    def __init__(self) -> None:\n",
    "        print(\"constructor called\")"
   ]
  },
  {
   "cell_type": "code",
   "execution_count": 14,
   "id": "b383d802",
   "metadata": {},
   "outputs": [
    {
     "name": "stdout",
     "output_type": "stream",
     "text": [
      "constructor called\n"
     ]
    }
   ],
   "source": [
    "obj = myClass()"
   ]
  },
  {
   "cell_type": "markdown",
   "id": "cbc8ba9e",
   "metadata": {},
   "source": [
    "#### Parameterized Constructors"
   ]
  },
  {
   "cell_type": "code",
   "execution_count": 17,
   "id": "db37d041",
   "metadata": {},
   "outputs": [],
   "source": [
    "class Addition:\n",
    "    def __init__(self,a,b) -> None:\n",
    "        self.a = a\n",
    "        self.b = b\n",
    "        print(f'{a+b}')"
   ]
  },
  {
   "cell_type": "code",
   "execution_count": 19,
   "id": "e81e2e7d",
   "metadata": {},
   "outputs": [
    {
     "name": "stdout",
     "output_type": "stream",
     "text": [
      "10\n"
     ]
    }
   ],
   "source": [
    "obj = Addition(5,5)"
   ]
  },
  {
   "cell_type": "markdown",
   "id": "456e4a25",
   "metadata": {},
   "source": [
    "### Destructors"
   ]
  },
  {
   "cell_type": "code",
   "execution_count": 20,
   "id": "163cc988",
   "metadata": {},
   "outputs": [],
   "source": [
    "class myClass:\n",
    "    def __init__(self) -> None:\n",
    "        print(\"constructor called\")\n",
    "    def __del__(self):\n",
    "        print(\"obj deleted\")"
   ]
  },
  {
   "cell_type": "code",
   "execution_count": 21,
   "id": "b8110784",
   "metadata": {},
   "outputs": [
    {
     "name": "stdout",
     "output_type": "stream",
     "text": [
      "constructor called\n",
      "obj deleted\n"
     ]
    }
   ],
   "source": [
    "obj = myClass()\n",
    "del obj"
   ]
  },
  {
   "cell_type": "code",
   "execution_count": null,
   "id": "f1dffe47",
   "metadata": {},
   "outputs": [],
   "source": []
  }
 ],
 "metadata": {
  "kernelspec": {
   "display_name": "Python 3 (ipykernel)",
   "language": "python",
   "name": "python3"
  },
  "language_info": {
   "codemirror_mode": {
    "name": "ipython",
    "version": 3
   },
   "file_extension": ".py",
   "mimetype": "text/x-python",
   "name": "python",
   "nbconvert_exporter": "python",
   "pygments_lexer": "ipython3",
   "version": "3.12.0"
  }
 },
 "nbformat": 4,
 "nbformat_minor": 5
}
