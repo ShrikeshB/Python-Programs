{
 "cells": [
  {
   "cell_type": "markdown",
   "metadata": {},
   "source": [
    "### instance method"
   ]
  },
  {
   "cell_type": "code",
   "execution_count": null,
   "metadata": {},
   "outputs": [],
   "source": [
    "class MyClass:\n",
    "    def __init__(self, value):\n",
    "        self.value = value\n",
    "    \n",
    "    def instance_method(self):\n",
    "        return f\"Instance method called. Value: {self.value}\"\n",
    "\n",
    "# Creating an instance of MyClass\n",
    "obj = MyClass(42)\n",
    "# Calling the instance method\n",
    "print(obj.instance_method())  # Output: Instance method called. Value: 42\n"
   ]
  },
  {
   "cell_type": "markdown",
   "metadata": {},
   "source": [
    "### Class Methods"
   ]
  },
  {
   "cell_type": "code",
   "execution_count": 3,
   "metadata": {},
   "outputs": [
    {
     "name": "stdout",
     "output_type": "stream",
     "text": [
      "hello\n"
     ]
    }
   ],
   "source": [
    "class MyClass:\n",
    "    class_var = \"hello\"\n",
    "    @classmethod\n",
    "    def greet(cls):\n",
    "        print(f'{cls.class_var}')\n",
    "\n",
    "MyClass.greet()"
   ]
  },
  {
   "cell_type": "markdown",
   "metadata": {},
   "source": [
    "### Static Methods"
   ]
  },
  {
   "cell_type": "code",
   "execution_count": 4,
   "metadata": {},
   "outputs": [
    {
     "name": "stdout",
     "output_type": "stream",
     "text": [
      "hello\n"
     ]
    }
   ],
   "source": [
    "class MyClass:\n",
    "    class_var = \"hello\"\n",
    "    @staticmethod\n",
    "    def greet():\n",
    "        print(f'{MyClass.class_var}')\n",
    "\n",
    "MyClass.greet()"
   ]
  },
  {
   "cell_type": "markdown",
   "metadata": {},
   "source": [
    "### Full Example with All Types of Methods"
   ]
  },
  {
   "cell_type": "code",
   "execution_count": 9,
   "metadata": {},
   "outputs": [
    {
     "name": "stdout",
     "output_type": "stream",
     "text": [
      "Instance method called. Instance variable: 42\n",
      "Class method called. Class variable: Class Variable\n",
      "Class method called. Class variable: Class Variable\n"
     ]
    }
   ],
   "source": [
    "class MyClass:\n",
    "    class_variable = \"Class Variable\"\n",
    "\n",
    "    def __init__(self, value):\n",
    "        self.instance_variable = value\n",
    "    \n",
    "    def instance_method(self):\n",
    "        return f\"Instance method called. Instance variable: {self.instance_variable}\"\n",
    "    \n",
    "    @classmethod\n",
    "    def class_method(cls):\n",
    "        return f\"Class method called. Class variable: {cls.class_variable}\"\n",
    "    \n",
    "    @staticmethod\n",
    "    def static_method(arg):\n",
    "        return f\"Class method called. Class variable: {MyClass.class_variable}\"\n",
    "\n",
    "\n",
    "# Creating an instance of MyClass\n",
    "obj = MyClass(42)\n",
    "\n",
    "# Calling instance method\n",
    "print(obj.instance_method())  # Output: Instance method called. Instance variable: 42\n",
    "\n",
    "# Calling class method\n",
    "print(MyClass.class_method())  # Output: Class method called. Class variable: Class Variable\n",
    "\n",
    "# Calling static method\n",
    "print(MyClass.static_method(\"Hello\"))  # Output: Static method called with argument: Hello\n"
   ]
  },
  {
   "cell_type": "code",
   "execution_count": null,
   "metadata": {},
   "outputs": [],
   "source": []
  }
 ],
 "metadata": {
  "kernelspec": {
   "display_name": "Python 3",
   "language": "python",
   "name": "python3"
  },
  "language_info": {
   "codemirror_mode": {
    "name": "ipython",
    "version": 3
   },
   "file_extension": ".py",
   "mimetype": "text/x-python",
   "name": "python",
   "nbconvert_exporter": "python",
   "pygments_lexer": "ipython3",
   "version": "3.12.0"
  }
 },
 "nbformat": 4,
 "nbformat_minor": 2
}
