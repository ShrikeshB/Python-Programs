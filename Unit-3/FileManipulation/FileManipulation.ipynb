{
 "cells": [
  {
   "cell_type": "markdown",
   "metadata": {},
   "source": [
    "### file manipulation .txt"
   ]
  },
  {
   "cell_type": "code",
   "execution_count": null,
   "metadata": {},
   "outputs": [],
   "source": [
    "f = open('./resources/file.txt','w')\n",
    "print(f'fname = {f.name}')\n",
    "print(f'mode = {f.mode}')"
   ]
  },
  {
   "cell_type": "markdown",
   "metadata": {},
   "source": [
    "#### writing in files"
   ]
  },
  {
   "cell_type": "code",
   "execution_count": null,
   "metadata": {},
   "outputs": [],
   "source": [
    "f.write(\"new data inserted!\")\n",
    "f.close()"
   ]
  },
  {
   "cell_type": "markdown",
   "metadata": {},
   "source": [
    "#### reading data from file"
   ]
  },
  {
   "cell_type": "code",
   "execution_count": null,
   "metadata": {},
   "outputs": [],
   "source": [
    "f=open(\"./resources/file.txt\",'r')\n",
    "print(f\"cursor is at pos {f.tell()}\")"
   ]
  },
  {
   "cell_type": "code",
   "execution_count": null,
   "metadata": {},
   "outputs": [],
   "source": [
    "print(f.read())"
   ]
  },
  {
   "cell_type": "code",
   "execution_count": null,
   "metadata": {},
   "outputs": [],
   "source": [
    "f.seek(0) # used to position the cursor\n",
    "print(f.read(5)) # to read specific amt of data..\n"
   ]
  },
  {
   "cell_type": "markdown",
   "metadata": {},
   "source": [
    "#### appending the data into file"
   ]
  },
  {
   "cell_type": "code",
   "execution_count": null,
   "metadata": {},
   "outputs": [],
   "source": [
    "f = open(\"./resources/file.txt\",'a+')\n",
    "f.write(\"updated data here!\")\n",
    "f.close()"
   ]
  },
  {
   "cell_type": "markdown",
   "metadata": {},
   "source": [
    "#### sum of elements"
   ]
  },
  {
   "cell_type": "code",
   "execution_count": null,
   "metadata": {},
   "outputs": [],
   "source": [
    "f = open(\"./resources/file.txt\",'w')\n",
    "f.write('10 20 30 40 50')\n",
    "f.close()"
   ]
  },
  {
   "cell_type": "code",
   "execution_count": null,
   "metadata": {},
   "outputs": [],
   "source": [
    "f = open(\"./resources/file.txt\",'r')\n",
    "num = [int(i) for i in f.read().split()]\n",
    "print(num)\n",
    "sum = 0\n",
    "for i in num:\n",
    "    sum = sum + int(i)\n",
    "sum\n"
   ]
  },
  {
   "cell_type": "markdown",
   "metadata": {},
   "source": [
    "#### 1. read file and count the no. of words in file \n",
    "#### 2. read file calculate the len of each word and create another file and store len in it"
   ]
  },
  {
   "cell_type": "code",
   "execution_count": null,
   "metadata": {},
   "outputs": [],
   "source": [
    "f = open(\"./resources/f2.txt\",'r')\n",
    "words = [x for x in f.read().split()]\n",
    "print(len(words))\n",
    "f.close()\n",
    "f = open(\"./resources/f2.txt\",'a+')\n",
    "f.write(f\" | total words={len(words)}\")\n",
    "f.close()\n"
   ]
  },
  {
   "cell_type": "markdown",
   "metadata": {},
   "source": [
    "### File manipulation csv"
   ]
  },
  {
   "cell_type": "markdown",
   "metadata": {},
   "source": [
    "#### read as basic csv file with default delimiter of ','"
   ]
  },
  {
   "cell_type": "code",
   "execution_count": null,
   "metadata": {},
   "outputs": [],
   "source": [
    "import csv\n",
    "with open('./resources/f1.csv','r') as f:\n",
    "    reader = csv.reader(f)\n",
    "    for i in reader:\n",
    "        print(i)\n",
    "        # print(','.join(i))   \n",
    "\n"
   ]
  },
  {
   "cell_type": "markdown",
   "metadata": {},
   "source": [
    "#### Read a csv file with specific delimiter and process the column heading and values in each row"
   ]
  },
  {
   "cell_type": "code",
   "execution_count": null,
   "metadata": {},
   "outputs": [],
   "source": [
    "with open('./resources/f1.csv','r') as f:\n",
    "    reader = csv.reader(f, delimiter=',')\n",
    "    line_count = 0\n",
    "    for i in reader:\n",
    "        if line_count == 0:\n",
    "            print(f\"column Names are = {','.join(i)}\")\n",
    "            line_count += 1\n",
    "        else:\n",
    "            print(f'{i[0]} aged {i[1]} years')"
   ]
  },
  {
   "cell_type": "markdown",
   "metadata": {},
   "source": [
    "#### open txt file as csv values with a specific delimiter"
   ]
  },
  {
   "cell_type": "code",
   "execution_count": null,
   "metadata": {},
   "outputs": [],
   "source": [
    "with open(\"f1.txt\",\"r\") as file:\n",
    "    reader = csv.reader(file, delimiter=\",\")\n",
    "    for r in reader:\n",
    "        print(r)"
   ]
  },
  {
   "cell_type": "markdown",
   "metadata": {},
   "source": [
    "#### read csv file as dictionary {}"
   ]
  },
  {
   "cell_type": "code",
   "execution_count": null,
   "metadata": {},
   "outputs": [],
   "source": [
    "with open(\"./resources/f1.csv\",\"r\") as file:\n",
    "    reader = csv.DictReader(file)\n",
    "    for i in reader:\n",
    "        print(i)\n",
    "        \n"
   ]
  },
  {
   "cell_type": "markdown",
   "metadata": {},
   "source": [
    "#### read txt file as dict and remove extra spaces around the column names"
   ]
  },
  {
   "cell_type": "code",
   "execution_count": null,
   "metadata": {},
   "outputs": [],
   "source": [
    "import csv\n",
    "with open('./resources/f1.csv','r') as f:\n",
    "    reader = csv.DictReader(f,delimiter=\",\",skipinitialspace=True)\n",
    "    lc = 0\n",
    "    for r in reader:\n",
    "        if lc == 0:\n",
    "            print(f\"Column Name are: {','.join(r)}\")\n",
    "            lc += 1\n",
    "        else:\n",
    "            print(f\"{r['Name']} aged {r['Age']} profession {r['Profession']}\")\n",
    "            lc += 1\n",
    "\n"
   ]
  },
  {
   "cell_type": "markdown",
   "metadata": {},
   "source": [
    "#### Write CSV file"
   ]
  },
  {
   "cell_type": "code",
   "execution_count": null,
   "metadata": {},
   "outputs": [],
   "source": [
    "with open(\"./resources/f2.csv\",'w') as f:\n",
    "    writer = csv.writer(f,delimiter=',', quotechar='\"',quoting=csv.QUOTE_MINIMAL)\n",
    "    writer.writerow(['Name','Age','Profession'])\n",
    "    writer.writerow(['John','23', 'Doctor'])\n",
    "    writer.writerow(['Jack','30', 'Engineer'])\n",
    "    writer.writerow(['Alex','25', 'Designer'])\n",
    "    "
   ]
  },
  {
   "cell_type": "markdown",
   "metadata": {},
   "source": [
    "#### write a csv file using dictwriter obj and writerow method\n",
    "##### remember dictwriter requires the list of fieldnames. It is mandatory"
   ]
  },
  {
   "cell_type": "code",
   "execution_count": null,
   "metadata": {},
   "outputs": [],
   "source": [
    "with open(\"./resources/f2.csv\",'w') as f:\n",
    "    fieldname = ['Name','Age']\n",
    "    writer = csv.DictWriter(f,fieldnames=fieldname)\n",
    "    writer.writeheader()\n",
    "    writer.writerow({\"Name\":\"max\",\"Age\":23})"
   ]
  },
  {
   "cell_type": "code",
   "execution_count": null,
   "metadata": {},
   "outputs": [],
   "source": [
    "import pandas\n",
    "df = pandas.read_csv('./resources/f2.csv')\n",
    "print(df)"
   ]
  },
  {
   "cell_type": "markdown",
   "metadata": {},
   "source": [
    "### XML manipulation"
   ]
  },
  {
   "cell_type": "markdown",
   "metadata": {},
   "source": [
    "#### Element Tree"
   ]
  },
  {
   "cell_type": "code",
   "execution_count": 45,
   "metadata": {},
   "outputs": [],
   "source": [
    "import xml.etree.ElementTree as xml"
   ]
  },
  {
   "cell_type": "code",
   "execution_count": null,
   "metadata": {},
   "outputs": [],
   "source": [
    "students = [\n",
    "    {\n",
    "        'name':'AAA',\n",
    "        'age':20,\n",
    "        'marks':45\n",
    "    },\n",
    "    {\n",
    "        'name':'BBB',\n",
    "        'age':22,\n",
    "        'marks':55\n",
    "    },\n",
    "    {\n",
    "        'name':'CCC',\n",
    "        'age':21,\n",
    "        'marks':35\n",
    "    },\n",
    "    {\n",
    "        'name':'XXX',\n",
    "        'age':20,\n",
    "        'marks':65\n",
    "    },\n",
    "    \n",
    "]"
   ]
  },
  {
   "cell_type": "code",
   "execution_count": null,
   "metadata": {},
   "outputs": [],
   "source": [
    "root = xml.Element('students') # created a element"
   ]
  },
  {
   "cell_type": "code",
   "execution_count": null,
   "metadata": {},
   "outputs": [],
   "source": [
    "for s in students:\n",
    "    child = xml.Element('s') # create child element for each student\n",
    "    root.append(child) # append child element created to the root\n",
    "    n = xml.SubElement(child,'name')\n",
    "    n.text = s.get('name')\n",
    "    age = xml.SubElement(child,'age')\n",
    "    a=s['age']\n",
    "    age.text = str(a) # age to string\n",
    "    mark=xml.SubElement(child,'mark')\n",
    "    m = s['marks']\n",
    "    mark.text = str(m)\n",
    "    "
   ]
  },
  {
   "cell_type": "code",
   "execution_count": null,
   "metadata": {},
   "outputs": [],
   "source": [
    "tree = xml.ElementTree(root)"
   ]
  },
  {
   "cell_type": "code",
   "execution_count": null,
   "metadata": {},
   "outputs": [],
   "source": [
    "with open('./resources/f1.xml','wb') as f:\n",
    "    tree.write(f)"
   ]
  },
  {
   "cell_type": "markdown",
   "metadata": {},
   "source": [
    "#### Read an XML file"
   ]
  },
  {
   "cell_type": "code",
   "execution_count": 46,
   "metadata": {},
   "outputs": [],
   "source": [
    "tree = xml.ElementTree(file='./resources/f1.xml')"
   ]
  },
  {
   "cell_type": "code",
   "execution_count": 47,
   "metadata": {},
   "outputs": [
    {
     "data": {
      "text/plain": [
       "xml.etree.ElementTree.ElementTree"
      ]
     },
     "execution_count": 47,
     "metadata": {},
     "output_type": "execute_result"
    }
   ],
   "source": [
    "type(tree)"
   ]
  },
  {
   "cell_type": "code",
   "execution_count": 51,
   "metadata": {},
   "outputs": [
    {
     "name": "stdout",
     "output_type": "stream",
     "text": [
      "<Element 'students' at 0x00000184DCF3ABB0>\n"
     ]
    }
   ],
   "source": [
    "root = tree.getroot()"
   ]
  },
  {
   "cell_type": "code",
   "execution_count": 49,
   "metadata": {},
   "outputs": [],
   "source": [
    "students = []"
   ]
  },
  {
   "cell_type": "code",
   "execution_count": 50,
   "metadata": {},
   "outputs": [
    {
     "name": "stdout",
     "output_type": "stream",
     "text": [
      "[{'name': 'AAA', 'age': '20', 'mark': '45'}, {'name': 'BBB', 'age': '22', 'mark': '55'}, {'name': 'CCC', 'age': '21', 'mark': '35'}, {'name': 'XXX', 'age': '20', 'mark': '65'}]\n"
     ]
    }
   ],
   "source": [
    "for s in root.findall('s'):\n",
    "    s_data = {}\n",
    "    for v in s:\n",
    "        s_data[v.tag] = v.text\n",
    "    students.append(s_data)\n",
    "print(students)"
   ]
  },
  {
   "cell_type": "markdown",
   "metadata": {},
   "source": [
    "### problem on XML"
   ]
  },
  {
   "cell_type": "markdown",
   "metadata": {},
   "source": [
    "#### create xml file that has emp name,dept and sal. read the file amd increase the sal by 5% and store it back"
   ]
  },
  {
   "cell_type": "code",
   "execution_count": null,
   "metadata": {},
   "outputs": [],
   "source": [
    "emp = [\n",
    "    {\n",
    "        'name': 'max',\n",
    "        'dept': 'xyz',\n",
    "        'salary' : 25000\n",
    "    },\n",
    "     {\n",
    "        'name': 'john',\n",
    "        'dept': 'abc',\n",
    "        'salary' : 55000\n",
    "    }\n",
    "]"
   ]
  },
  {
   "cell_type": "code",
   "execution_count": null,
   "metadata": {},
   "outputs": [],
   "source": [
    "root = xml.Element('empolyees')"
   ]
  },
  {
   "cell_type": "code",
   "execution_count": null,
   "metadata": {},
   "outputs": [],
   "source": [
    "for e in emp:\n",
    "    child = xml.SubElement(root,'emp')\n",
    "    name = xml.SubElement(child,'name')\n",
    "    name.text = e.get('name')\n",
    "    dept = xml.SubElement(child,'name')\n",
    "    dept.text = e.get('dept')\n",
    "    sal = xml.SubElement(child,'salary')\n",
    "    s = e.get('salary')\n",
    "    sal.text = str(s)\n",
    "    "
   ]
  },
  {
   "cell_type": "code",
   "execution_count": null,
   "metadata": {},
   "outputs": [],
   "source": [
    "tree = xml.ElementTree(root)"
   ]
  },
  {
   "cell_type": "code",
   "execution_count": null,
   "metadata": {},
   "outputs": [],
   "source": [
    "with open(\"./resources/emp.xml\",'wb') as f:\n",
    "    tree.write(f)"
   ]
  },
  {
   "cell_type": "code",
   "execution_count": null,
   "metadata": {},
   "outputs": [],
   "source": [
    "tree = xml.ElementTree(file=\"./resources/emp.xml\")"
   ]
  },
  {
   "cell_type": "code",
   "execution_count": null,
   "metadata": {},
   "outputs": [],
   "source": [
    "emp=[]\n",
    "root = tree.getroot()"
   ]
  },
  {
   "cell_type": "code",
   "execution_count": null,
   "metadata": {},
   "outputs": [],
   "source": [
    "for e in root.findall('emp'):\n",
    "    salary_element = e.find('salary')\n",
    "    print(salary_element)\n",
    "    salary = float(salary_element.text)\n",
    "    increased_salary = salary * 1.05  # Increasing salary by 5%\n",
    "    salary_element.text = str(increased_salary)"
   ]
  },
  {
   "cell_type": "code",
   "execution_count": null,
   "metadata": {},
   "outputs": [],
   "source": [
    "with open('./resources/emp.xml', 'wb') as f:\n",
    "    tree.write(f)"
   ]
  },
  {
   "cell_type": "markdown",
   "metadata": {},
   "source": [
    "### create XML structure"
   ]
  },
  {
   "cell_type": "code",
   "execution_count": null,
   "metadata": {},
   "outputs": [],
   "source": [
    "from xml.dom import minidom"
   ]
  },
  {
   "cell_type": "code",
   "execution_count": null,
   "metadata": {},
   "outputs": [],
   "source": [
    "emp = [\n",
    "    {\n",
    "        'name': 'max',\n",
    "        'dept': 'xyz',\n",
    "        'salary' : 25000\n",
    "    },\n",
    "     {\n",
    "        'name': 'john',\n",
    "        'dept': 'abc',\n",
    "        'salary' : 55000\n",
    "    }\n",
    "]"
   ]
  },
  {
   "cell_type": "code",
   "execution_count": null,
   "metadata": {},
   "outputs": [],
   "source": [
    "doc = minidom.Document()"
   ]
  },
  {
   "cell_type": "code",
   "execution_count": null,
   "metadata": {},
   "outputs": [],
   "source": [
    "root = doc.createElement('employee')\n",
    "doc.appendChild(root)"
   ]
  },
  {
   "cell_type": "code",
   "execution_count": null,
   "metadata": {},
   "outputs": [],
   "source": [
    "for e in emp:\n",
    "    e_element = doc.createElement(\"emp\")\n",
    "    print(type(e_element))\n",
    "    # Name element\n",
    "    name_element = doc.createElement('name')\n",
    "    name_text = doc.createTextNode(e['name'])\n",
    "    name_element.appendChild(name_text)\n",
    "    # appent to emp node -> name node\n",
    "    e_element.appendChild(name_element)\n",
    "    # append to root node -> emp node\n",
    "    root.appendChild(name_element)\n"
   ]
  },
  {
   "cell_type": "code",
   "execution_count": null,
   "metadata": {},
   "outputs": [],
   "source": [
    "f = open('./resources/dom.xml','w')"
   ]
  },
  {
   "cell_type": "code",
   "execution_count": null,
   "metadata": {},
   "outputs": [],
   "source": [
    "f.write(doc.toprettyxml(indent=\" \"))\n",
    "print(doc.toprettyxml())"
   ]
  },
  {
   "cell_type": "markdown",
   "metadata": {},
   "source": [
    "#### read or parse xml file"
   ]
  },
  {
   "cell_type": "code",
   "execution_count": null,
   "metadata": {},
   "outputs": [],
   "source": [
    "tree = minidom.parse('./resources/dom.xml')"
   ]
  },
  {
   "cell_type": "code",
   "execution_count": null,
   "metadata": {},
   "outputs": [],
   "source": [
    "root = tree.documentElement"
   ]
  },
  {
   "cell_type": "code",
   "execution_count": null,
   "metadata": {},
   "outputs": [],
   "source": [
    "name = root.getElementsByTagName('name')\n",
    "print(name[0].childNodes[0].data)"
   ]
  },
  {
   "cell_type": "markdown",
   "metadata": {},
   "source": [
    "#### modify"
   ]
  },
  {
   "cell_type": "code",
   "execution_count": null,
   "metadata": {},
   "outputs": [],
   "source": [
    "f='dom.xml'\n",
    "dom_tree = minidom.parse(f)"
   ]
  },
  {
   "cell_type": "code",
   "execution_count": null,
   "metadata": {},
   "outputs": [],
   "source": [
    "root = dom_tree.documentElement\n",
    "std = root.getElementsByTagName('Students')"
   ]
  },
  {
   "cell_type": "code",
   "execution_count": null,
   "metadata": {},
   "outputs": [],
   "source": [
    "for s in std:\n",
    "    m=s.getElementsByTagName('marks')[0]\n",
    "    c_m = int(m.chidlNodes[0].data)\n",
    "    c_m = c_m+10\n",
    "\n",
    "    m.childNodes[0].data = str(c_m)\n",
    "    "
   ]
  },
  {
   "cell_type": "code",
   "execution_count": null,
   "metadata": {},
   "outputs": [],
   "source": [
    "f=open('dom.xml','w')\n",
    "f.write(dom_tree.toxml())\n",
    "f=open('dom1.xml','w')\n",
    "f.write(dom_tree.toxml())"
   ]
  },
  {
   "cell_type": "markdown",
   "metadata": {},
   "source": [
    "### JSON manipulation"
   ]
  },
  {
   "cell_type": "markdown",
   "metadata": {},
   "source": [
    "#### pares a json strng and return deictionary\n"
   ]
  },
  {
   "cell_type": "code",
   "execution_count": null,
   "metadata": {},
   "outputs": [],
   "source": [
    "import json as j"
   ]
  },
  {
   "cell_type": "code",
   "execution_count": null,
   "metadata": {},
   "outputs": [],
   "source": [
    "p = '{\"name\":\"AAA\",\"Lang\":[\"English\",\"Kannada\",\"Marathi\",\"Hindi\",\"Telagu\"]}'\n",
    "type(p)\n",
    "print(p)"
   ]
  },
  {
   "cell_type": "code",
   "execution_count": null,
   "metadata": {},
   "outputs": [],
   "source": [
    "p_d = j.loads(p)\n",
    "print(p_d)\n",
    "type(p_d)"
   ]
  },
  {
   "cell_type": "markdown",
   "metadata": {},
   "source": [
    "### Read JSON file"
   ]
  },
  {
   "cell_type": "code",
   "execution_count": null,
   "metadata": {},
   "outputs": [],
   "source": [
    "with open('./resources/f1.json') as f:\n",
    "    data = j.load(f)"
   ]
  },
  {
   "cell_type": "code",
   "execution_count": null,
   "metadata": {},
   "outputs": [],
   "source": [
    "for i in data:\n",
    "    print(f'{i.get('name') } lives in {i.get('city')}')\n",
    "type(data)"
   ]
  },
  {
   "cell_type": "markdown",
   "metadata": {},
   "source": [
    "#### Write the json data into file"
   ]
  },
  {
   "cell_type": "markdown",
   "metadata": {},
   "source": [
    "#### convert dict into json"
   ]
  },
  {
   "cell_type": "code",
   "execution_count": null,
   "metadata": {},
   "outputs": [],
   "source": [
    "n_d = {\n",
    "   \"emp2\": {\n",
    "        \"name\":\"aaaa\",\n",
    "        \"age\":23\n",
    "    },\n",
    "   \"emp1\": {\n",
    "        \"name\":\"bbb\",\n",
    "        \"age\":23\n",
    "    }\n",
    "}\n"
   ]
  },
  {
   "cell_type": "code",
   "execution_count": null,
   "metadata": {},
   "outputs": [],
   "source": [
    "with open(\"./resources/names_1.json\",'w') as f:\n",
    "    j.dump(n_d,f,indent=4, sort_keys=True)"
   ]
  },
  {
   "cell_type": "markdown",
   "metadata": {},
   "source": [
    "### Problem"
   ]
  },
  {
   "cell_type": "markdown",
   "metadata": {},
   "source": [
    "#### assume a json file has data(name,age, sal, dept) 5 set values\n",
    "#### display highest sal, lowest sal and avg age"
   ]
  },
  {
   "cell_type": "code",
   "execution_count": null,
   "metadata": {},
   "outputs": [],
   "source": [
    "emp = {\n",
    "   \"emp2\": {\n",
    "        \"name\":\"AAAA\",\n",
    "        \"age\":23,\n",
    "        \"salary\":23000,\n",
    "        \"dept\":\"XXX\"\n",
    "    },\n",
    "   \"emp1\": {\n",
    "        \"name\":\"BBBB\",\n",
    "        \"age\":28,\n",
    "        \"salary\":21000,\n",
    "        \"dept\":\"YYYY\"\n",
    "    },\n",
    "    \"emp3\": {\n",
    "        \"name\":\"CCCC\",\n",
    "        \"age\":36,\n",
    "        \"salary\":31000,\n",
    "        \"dept\":\"YYYY\"\n",
    "    },\n",
    "    \"emp4\": {\n",
    "        \"name\":\"DDDD\",\n",
    "        \"age\":33,\n",
    "        \"salary\":41000,\n",
    "        \"dept\":\"XXXX\"\n",
    "    },\n",
    "    \"emp5\": {\n",
    "        \"name\":\"EEEE\",\n",
    "        \"age\":23,\n",
    "        \"salary\":21000,\n",
    "        \"dept\":\"ZZZZ\"\n",
    "    },\n",
    "    \n",
    "}"
   ]
  },
  {
   "cell_type": "code",
   "execution_count": null,
   "metadata": {},
   "outputs": [],
   "source": [
    "with open('./resources/emp.json','w+') as f:\n",
    "    j.dump(emp, f, indent=4, sort_keys=True)"
   ]
  },
  {
   "cell_type": "code",
   "execution_count": null,
   "metadata": {},
   "outputs": [],
   "source": [
    "import json as j\n",
    "with open('./resources/emp.json','r') as f:\n",
    "    data = j.load(f)\n",
    "    for e in data.values():\n",
    "        print(e.get('age'))\n"
   ]
  },
  {
   "cell_type": "code",
   "execution_count": null,
   "metadata": {},
   "outputs": [],
   "source": [
    "salaries = [x['salary'] for x in data.values()]\n",
    "print(f'max sal = {max(salaries)}')\n",
    "print(f'max sal = {min(salaries)}')\n",
    "\n",
    "sum_sal = 0\n",
    "for i in salaries:\n",
    "    sum_sal += i\n",
    "    \n",
    "print(f'avg sal = {sum_sal/len(salaries)}')"
   ]
  },
  {
   "cell_type": "code",
   "execution_count": null,
   "metadata": {},
   "outputs": [],
   "source": [
    "my_dict ={'emp1': {'age': 28, 'dept': 'YYYY', 'name': 'BBBB', 'salary': 21000},\n",
    " 'emp2': {'age': 23, 'dept': 'XXXX', 'name': 'AAAA', 'salary': 23000},\n",
    " 'emp3': {'age': 36, 'dept': 'YYYY', 'name': 'CCCC', 'salary': 31000},\n",
    " 'emp4': {'age': 33, 'dept': 'XXXX', 'name': 'DDDD', 'salary': 41000},\n",
    " 'emp5': {'age': 23, 'dept': 'ZZZZ', 'name': 'EEEE', 'salary': 21000},\n",
    " 'emp6': {'age': 25, 'dept': 'ZZZZ', 'name': 'FFFF', 'salary': 21000}\n",
    " }"
   ]
  },
  {
   "cell_type": "code",
   "execution_count": null,
   "metadata": {},
   "outputs": [],
   "source": [
    "with open('./resources/emp1.json','w') as f:\n",
    "    j.dump(my_dict,f, indent=4, sort_keys=True)"
   ]
  },
  {
   "cell_type": "code",
   "execution_count": null,
   "metadata": {},
   "outputs": [],
   "source": [
    "with open('./resources/emp1.json','r') as f:\n",
    "    data = j.load(f)\n",
    "print(data)"
   ]
  },
  {
   "cell_type": "code",
   "execution_count": null,
   "metadata": {},
   "outputs": [],
   "source": [
    "d = {}\n",
    "for i in data.values():\n",
    "    tot=0\n",
    "    c=0\n",
    "    for j in data.values():\n",
    "        if i['dept'] == j['dept']:\n",
    "            tot+=j['age']\n",
    "            c+=1\n",
    "    avg = tot/c\n",
    "    d.update({i['dept']:avg})\n",
    "  \n",
    "print(d)"
   ]
  },
  {
   "cell_type": "code",
   "execution_count": null,
   "metadata": {},
   "outputs": [],
   "source": []
  }
 ],
 "metadata": {
  "kernelspec": {
   "display_name": "Python 3",
   "language": "python",
   "name": "python3"
  },
  "language_info": {
   "codemirror_mode": {
    "name": "ipython",
    "version": 3
   },
   "file_extension": ".py",
   "mimetype": "text/x-python",
   "name": "python",
   "nbconvert_exporter": "python",
   "pygments_lexer": "ipython3",
   "version": "3.12.0"
  }
 },
 "nbformat": 4,
 "nbformat_minor": 2
}
