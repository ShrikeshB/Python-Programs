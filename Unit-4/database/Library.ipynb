{
 "cells": [
  {
   "cell_type": "markdown",
   "metadata": {},
   "source": [
    "###### Library DB - author, book\n",
    "###### author - id, name, book\n",
    "###### book - id, title, author_id(f key)\n",
    "###### one author can write many books"
   ]
  },
  {
   "cell_type": "code",
   "execution_count": 1,
   "metadata": {},
   "outputs": [],
   "source": [
    "from flask  import Flask, render_template, request, redirect, url_for\n",
    "from flask_sqlalchemy import SQLAlchemy"
   ]
  },
  {
   "cell_type": "markdown",
   "metadata": {},
   "source": [
    "## Instatantiate the app"
   ]
  },
  {
   "cell_type": "code",
   "execution_count": 2,
   "metadata": {},
   "outputs": [],
   "source": [
    "app=Flask(__name__)\n",
    "app.config['SQLALCHEMY_DATABASE_URI'] = \"sqlite:///library.db\"\n",
    "app.config['SQLALCHEMY_TRACK_MODIFICATIONS']=False\n",
    "db = SQLAlchemy(app)\n",
    "# db.init_app(app)\n"
   ]
  },
  {
   "cell_type": "code",
   "execution_count": null,
   "metadata": {},
   "outputs": [],
   "source": [
    "class Author(db.Model):\n",
    "   id=db.Column(db.Integer, primary_key=True)\n",
    "   name=db.Column(db.String(50),nullable=False) \n",
    "   books=db.relationship('Book',backref='author',lazy=True)"
   ]
  },
  {
   "cell_type": "code",
   "execution_count": null,
   "metadata": {},
   "outputs": [],
   "source": [
    "class Book(db.Model):\n",
    "    id=db.Column(db.Integer, primary_key=True)\n",
    "    title=db.Column(db.String(50),nullable=False) \n",
    "    author=db.Column(db.Integer,db.ForeignKey('author.id'),nullable=False) \n",
    "    \n",
    "    "
   ]
  },
  {
   "cell_type": "markdown",
   "metadata": {},
   "source": [
    "### create table "
   ]
  },
  {
   "cell_type": "code",
   "execution_count": null,
   "metadata": {},
   "outputs": [],
   "source": [
    "with app.app_context():\n",
    "    db.create_all()"
   ]
  },
  {
   "cell_type": "markdown",
   "metadata": {},
   "source": [
    "### Home page"
   ]
  },
  {
   "cell_type": "code",
   "execution_count": null,
   "metadata": {},
   "outputs": [],
   "source": [
    "@app.route('/')\n",
    "def index():\n",
    "    authors = Author.query.all()\n",
    "    return render_template('index_library.html',authors)"
   ]
  },
  {
   "cell_type": "markdown",
   "metadata": {},
   "source": [
    "### add author"
   ]
  },
  {
   "cell_type": "code",
   "execution_count": null,
   "metadata": {},
   "outputs": [],
   "source": [
    "@app.route(\"/add_author\", methods=['GET','POST'])\n",
    "def add_author():\n",
    "    if request.method == 'POST':\n",
    "        author_name = request.form['author']\n",
    "        new_author=Author(name=author_name)\n",
    "        db.session.add(new_author)\n",
    "        db.session.commit()\n",
    "    return redirect(url_for('index'))\n",
    "        "
   ]
  },
  {
   "cell_type": "markdown",
   "metadata": {},
   "source": [
    "### add books"
   ]
  },
  {
   "cell_type": "code",
   "execution_count": null,
   "metadata": {},
   "outputs": [],
   "source": [
    "@app.route(\"/add_book/<int:author_id>\", methods=['GET','POST'])\n",
    "def add_book(author_id):\n",
    "    if request.method == 'POST':\n",
    "        book_title = request.form['book_title']\n",
    "        author=Author.query.get(author_id)\n",
    "        if author:\n",
    "            new_book = Book(title=book_title,author=author)\n",
    "            db.session.add(new_book)\n",
    "            db.session.commit()\n",
    "    return redirect(url_for('index'))\n",
    "        "
   ]
  },
  {
   "cell_type": "code",
   "execution_count": null,
   "metadata": {},
   "outputs": [],
   "source": [
    "app.run(port=5001)"
   ]
  },
  {
   "cell_type": "code",
   "execution_count": null,
   "metadata": {},
   "outputs": [],
   "source": []
  }
 ],
 "metadata": {
  "kernelspec": {
   "display_name": "Python 3",
   "language": "python",
   "name": "python3"
  },
  "language_info": {
   "codemirror_mode": {
    "name": "ipython",
    "version": 3
   },
   "file_extension": ".py",
   "mimetype": "text/x-python",
   "name": "python",
   "nbconvert_exporter": "python",
   "pygments_lexer": "ipython3",
   "version": "3.12.0"
  }
 },
 "nbformat": 4,
 "nbformat_minor": 2
}
