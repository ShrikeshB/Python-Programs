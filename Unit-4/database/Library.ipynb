{
 "cells": [
  {
   "cell_type": "markdown",
   "metadata": {},
   "source": [
    "###### Library DB - author, book\n",
    "###### author - id, name, book\n",
    "###### book - id, title, author_id(f key)\n",
    "###### one author can write many books"
   ]
  },
  {
   "cell_type": "code",
   "execution_count": 1,
   "metadata": {},
   "outputs": [],
   "source": [
    "from flask  import Flask, render_template, request, redirect, url_for\n",
    "from flask_sqlalchemy import SQLAlchemy"
   ]
  },
  {
   "cell_type": "markdown",
   "metadata": {},
   "source": [
    "## Instatantiate the app"
   ]
  },
  {
   "cell_type": "code",
   "execution_count": 3,
   "metadata": {},
   "outputs": [],
   "source": [
    "app=Flask(__name__)\n",
    "app.config['SQLALCHEMY_DATABASE_URI'] = \"sqlite:///library.db\"\n",
    "app.config['SQLALCHEMY_TRACK_MODIFICATIONS']=False\n",
    "db = SQLAlchemy(app)\n",
    "# db.init_app(app)\n"
   ]
  },
  {
   "cell_type": "code",
   "execution_count": 4,
   "metadata": {},
   "outputs": [],
   "source": [
    "class Author(db.Model):\n",
    "   id=db.Column(db.Integer, primary_key=True)\n",
    "   name=db.Column(db.String(50),nullable=False) "
   ]
  },
  {
   "cell_type": "code",
   "execution_count": null,
   "metadata": {},
   "outputs": [],
   "source": [
    "class Book(db.Model):\n",
    "    id=db.Column(db.Integer, primary_key=True)\n",
    "    title=db.Column(db.String(50),nullable=False) \n",
    "    \n"
   ]
  }
 ],
 "metadata": {
  "kernelspec": {
   "display_name": "Python 3",
   "language": "python",
   "name": "python3"
  },
  "language_info": {
   "codemirror_mode": {
    "name": "ipython",
    "version": 3
   },
   "file_extension": ".py",
   "mimetype": "text/x-python",
   "name": "python",
   "nbconvert_exporter": "python",
   "pygments_lexer": "ipython3",
   "version": "3.12.0"
  }
 },
 "nbformat": 4,
 "nbformat_minor": 2
}
