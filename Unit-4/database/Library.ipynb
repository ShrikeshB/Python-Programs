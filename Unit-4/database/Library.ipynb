{
 "cells": [
  {
   "cell_type": "markdown",
   "metadata": {},
   "source": [
    "###### Library DB - author, book\n",
    "###### author - id, name, book\n",
    "###### book - id, title, author_id(f key)\n",
    "###### one author can write many books"
   ]
  },
  {
   "cell_type": "code",
   "execution_count": 1,
   "metadata": {},
   "outputs": [],
   "source": [
    "from flask  import Flask, render_template, request, redirect, url_for\n",
    "from flask_sqlalchemy import SQLAlchemy"
   ]
  },
  {
   "cell_type": "markdown",
   "metadata": {},
   "source": [
    "## Instatantiate the app"
   ]
  },
  {
   "cell_type": "code",
   "execution_count": 2,
   "metadata": {},
   "outputs": [],
   "source": [
    "app=Flask(__name__)\n",
    "app.config['SQLALCHEMY_DATABASE_URI'] = \"sqlite:///library.db\"\n",
    "app.config['SQLALCHEMY_TRACK_MODIFICATIONS']=False\n",
    "db = SQLAlchemy(app)\n",
    "# db.init_app(app)\n"
   ]
  },
  {
   "cell_type": "code",
   "execution_count": 3,
   "metadata": {},
   "outputs": [],
   "source": [
    "class Author(db.Model):\n",
    "   id=db.Column(db.Integer, primary_key=True)\n",
    "   name=db.Column(db.String(50),nullable=False) \n",
    "   books=db.relationship('Book',backref='author',lazy=True)"
   ]
  },
  {
   "cell_type": "code",
   "execution_count": 4,
   "metadata": {},
   "outputs": [],
   "source": [
    "class Book(db.Model):\n",
    "    id=db.Column(db.Integer, primary_key=True)\n",
    "    title=db.Column(db.String(50),nullable=False) \n",
    "    author=db.Column(db.Integer,db.ForeignKey('author.id'),nullable=False) \n",
    "    \n",
    "    "
   ]
  },
  {
   "cell_type": "markdown",
   "metadata": {},
   "source": [
    "### create table "
   ]
  },
  {
   "cell_type": "code",
   "execution_count": 5,
   "metadata": {},
   "outputs": [],
   "source": [
    "with app.app_context():\n",
    "    db.create_all()"
   ]
  },
  {
   "cell_type": "markdown",
   "metadata": {},
   "source": [
    "### Home page"
   ]
  },
  {
   "cell_type": "code",
   "execution_count": 6,
   "metadata": {},
   "outputs": [],
   "source": [
    "@app.route('/')\n",
    "def index():\n",
    "    authors = Author.query.all()\n",
    "    return render_template('index_library.html',authors)"
   ]
  },
  {
   "cell_type": "markdown",
   "metadata": {},
   "source": [
    "### add author"
   ]
  },
  {
   "cell_type": "code",
   "execution_count": 7,
   "metadata": {},
   "outputs": [],
   "source": [
    "@app.route(\"/add_author\", methods=['GET','POST'])\n",
    "def add_author():\n",
    "    if request.method == 'POST':\n",
    "        author_name = request.form['author']\n",
    "        new_author=Author(name=author_name)\n",
    "        db.session.add(new_author)\n",
    "        db.session.commit()\n",
    "    return redirect(url_for('index'))\n",
    "        "
   ]
  },
  {
   "cell_type": "markdown",
   "metadata": {},
   "source": [
    "### add books"
   ]
  },
  {
   "cell_type": "code",
   "execution_count": 8,
   "metadata": {},
   "outputs": [],
   "source": [
    "@app.route(\"/add_book/<int:author_id>\", methods=['GET','POST'])\n",
    "def add_book(author_id):\n",
    "    if request.method == 'POST':\n",
    "        book_title = request.form['book_title']\n",
    "        author=Author.query.get(author_id)\n",
    "        if author:\n",
    "            new_book = Book(title=book_title,author=author)\n",
    "            db.session.add(new_book)\n",
    "            db.session.commit()\n",
    "    return redirect(url_for('index'))\n",
    "        "
   ]
  },
  {
   "cell_type": "code",
   "execution_count": 9,
   "metadata": {},
   "outputs": [
    {
     "name": "stdout",
     "output_type": "stream",
     "text": [
      " * Serving Flask app '__main__'\n",
      " * Debug mode: off\n"
     ]
    },
    {
     "name": "stderr",
     "output_type": "stream",
     "text": [
      "WARNING: This is a development server. Do not use it in a production deployment. Use a production WSGI server instead.\n",
      " * Running on http://127.0.0.1:5001\n",
      "Press CTRL+C to quit\n",
      "[2024-05-13 12:37:44,333] ERROR in app: Exception on / [GET]\n",
      "Traceback (most recent call last):\n",
      "  File \"c:\\Users\\shrik\\AppData\\Local\\Programs\\Python\\Python312\\Lib\\site-packages\\flask\\app.py\", line 1473, in wsgi_app\n",
      "    response = self.full_dispatch_request()\n",
      "               ^^^^^^^^^^^^^^^^^^^^^^^^^^^^\n",
      "  File \"c:\\Users\\shrik\\AppData\\Local\\Programs\\Python\\Python312\\Lib\\site-packages\\flask\\app.py\", line 882, in full_dispatch_request\n",
      "    rv = self.handle_user_exception(e)\n",
      "         ^^^^^^^^^^^^^^^^^^^^^^^^^^^^^\n",
      "  File \"c:\\Users\\shrik\\AppData\\Local\\Programs\\Python\\Python312\\Lib\\site-packages\\flask\\app.py\", line 880, in full_dispatch_request\n",
      "    rv = self.dispatch_request()\n",
      "         ^^^^^^^^^^^^^^^^^^^^^^^\n",
      "  File \"c:\\Users\\shrik\\AppData\\Local\\Programs\\Python\\Python312\\Lib\\site-packages\\flask\\app.py\", line 865, in dispatch_request\n",
      "    return self.ensure_sync(self.view_functions[rule.endpoint])(**view_args)  # type: ignore[no-any-return]\n",
      "           ^^^^^^^^^^^^^^^^^^^^^^^^^^^^^^^^^^^^^^^^^^^^^^^^^^^^^^^^^^^^^^^^^\n",
      "  File \"C:\\Users\\shrik\\AppData\\Local\\Temp\\ipykernel_21516\\2238275185.py\", line 3, in index\n",
      "    authors = Author.query.all()\n",
      "              ^^^^^^^^^^^^\n",
      "  File \"c:\\Users\\shrik\\AppData\\Local\\Programs\\Python\\Python312\\Lib\\site-packages\\flask_sqlalchemy\\model.py\", line 22, in __get__\n",
      "    return cls.query_class(\n",
      "           ^^^^^^^^^^^^^^^^\n",
      "  File \"c:\\Users\\shrik\\AppData\\Local\\Programs\\Python\\Python312\\Lib\\site-packages\\sqlalchemy\\orm\\query.py\", line 275, in __init__\n",
      "    self._set_entities(entities)\n",
      "  File \"c:\\Users\\shrik\\AppData\\Local\\Programs\\Python\\Python312\\Lib\\site-packages\\sqlalchemy\\orm\\query.py\", line 288, in _set_entities\n",
      "    coercions.expect(\n",
      "  File \"c:\\Users\\shrik\\AppData\\Local\\Programs\\Python\\Python312\\Lib\\site-packages\\sqlalchemy\\sql\\coercions.py\", line 389, in expect\n",
      "    insp._post_inspect\n",
      "  File \"c:\\Users\\shrik\\AppData\\Local\\Programs\\Python\\Python312\\Lib\\site-packages\\sqlalchemy\\util\\langhelpers.py\", line 1253, in __get__\n",
      "    obj.__dict__[self.__name__] = result = self.fget(obj)\n",
      "                                           ^^^^^^^^^^^^^^\n",
      "  File \"c:\\Users\\shrik\\AppData\\Local\\Programs\\Python\\Python312\\Lib\\site-packages\\sqlalchemy\\orm\\mapper.py\", line 2711, in _post_inspect\n",
      "    self._check_configure()\n",
      "  File \"c:\\Users\\shrik\\AppData\\Local\\Programs\\Python\\Python312\\Lib\\site-packages\\sqlalchemy\\orm\\mapper.py\", line 2388, in _check_configure\n",
      "    _configure_registries({self.registry}, cascade=True)\n",
      "  File \"c:\\Users\\shrik\\AppData\\Local\\Programs\\Python\\Python312\\Lib\\site-packages\\sqlalchemy\\orm\\mapper.py\", line 4204, in _configure_registries\n",
      "    _do_configure_registries(registries, cascade)\n",
      "  File \"c:\\Users\\shrik\\AppData\\Local\\Programs\\Python\\Python312\\Lib\\site-packages\\sqlalchemy\\orm\\mapper.py\", line 4245, in _do_configure_registries\n",
      "    mapper._post_configure_properties()\n",
      "  File \"c:\\Users\\shrik\\AppData\\Local\\Programs\\Python\\Python312\\Lib\\site-packages\\sqlalchemy\\orm\\mapper.py\", line 2405, in _post_configure_properties\n",
      "    prop.init()\n",
      "  File \"c:\\Users\\shrik\\AppData\\Local\\Programs\\Python\\Python312\\Lib\\site-packages\\sqlalchemy\\orm\\interfaces.py\", line 584, in init\n",
      "    self.do_init()\n",
      "  File \"c:\\Users\\shrik\\AppData\\Local\\Programs\\Python\\Python312\\Lib\\site-packages\\sqlalchemy\\orm\\relationships.py\", line 1647, in do_init\n",
      "    self._generate_backref()\n",
      "  File \"c:\\Users\\shrik\\AppData\\Local\\Programs\\Python\\Python312\\Lib\\site-packages\\sqlalchemy\\orm\\relationships.py\", line 2075, in _generate_backref\n",
      "    raise sa_exc.ArgumentError(\n",
      "sqlalchemy.exc.ArgumentError: Error creating backref 'author' on relationship 'Author.books': property of that name exists on mapper 'Mapper[Book(book)]'\n",
      "127.0.0.1 - - [13/May/2024 12:37:44] \"GET / HTTP/1.1\" 500 -\n"
     ]
    }
   ],
   "source": [
    "app.run(port=5001)"
   ]
  },
  {
   "cell_type": "code",
   "execution_count": null,
   "metadata": {},
   "outputs": [],
   "source": []
  }
 ],
 "metadata": {
  "kernelspec": {
   "display_name": "Python 3",
   "language": "python",
   "name": "python3"
  },
  "language_info": {
   "codemirror_mode": {
    "name": "ipython",
    "version": 3
   },
   "file_extension": ".py",
   "mimetype": "text/x-python",
   "name": "python",
   "nbconvert_exporter": "python",
   "pygments_lexer": "ipython3",
   "version": "3.12.0"
  }
 },
 "nbformat": 4,
 "nbformat_minor": 2
}
